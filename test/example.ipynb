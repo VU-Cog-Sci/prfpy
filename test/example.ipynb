{
 "cells": [
  {
   "cell_type": "code",
   "execution_count": 1,
   "metadata": {},
   "outputs": [],
   "source": [
    "%%capture\n",
    "%load_ext autoreload\n",
    "%autoreload 2\n",
    "%matplotlib notebook\n",
    "import numpy as np\n",
    "import matplotlib.pyplot as pl\n",
    "from prfpy.stimulus import PRFStimulus2D\n",
    "from prfpy.model import Iso2DGaussianModel, Norm_Iso2DGaussianModel, DoG_Iso2DGaussianModel, CSS_Iso2DGaussianModel\n",
    "from prfpy.fit import Iso2DGaussianFitter, Norm_Iso2DGaussianFitter, DoG_Iso2DGaussianFitter, CSS_Iso2DGaussianFitter"
   ]
  },
  {
   "cell_type": "markdown",
   "metadata": {},
   "source": [
    "This notebook shows a simple example of prfpy use"
   ]
  },
  {
   "cell_type": "markdown",
   "metadata": {},
   "source": [
    "# Creating stimulus object"
   ]
  },
  {
   "cell_type": "code",
   "execution_count": 2,
   "metadata": {},
   "outputs": [],
   "source": [
    "#just a random design matrix for teting purposes\n",
    "screen_size_cm=40\n",
    "screen_distance_cm=200\n",
    "#dimensions are pixels, pixels, time\n",
    "design_matrix=np.zeros((50,50,100))\n",
    "design_matrix[:,20:30,40:50] = 1\n",
    "TR=1\n",
    "task_lengths=[100]\n",
    "task_names=['test']\n",
    "\n",
    "#these are the parts of the timecourses that will be used to estimate the baseline\n",
    "late_iso_dict={'test':np.arange(40)}\n",
    "\n",
    "normalize_integral_dx=False\n",
    "\n",
    "prf_stim = PRFStimulus2D(screen_size_cm=screen_size_cm,\n",
    "                             screen_distance_cm=screen_distance_cm,\n",
    "                             design_matrix=design_matrix,\n",
    "                             TR=TR,\n",
    "                             task_lengths=task_lengths,\n",
    "                             task_names=task_names,\n",
    "                             late_iso_dict=late_iso_dict,\n",
    "                             normalize_integral_dx=normalize_integral_dx)"
   ]
  },
  {
   "cell_type": "markdown",
   "metadata": {},
   "source": [
    "# Gaussian model fit"
   ]
  },
  {
   "cell_type": "markdown",
   "metadata": {},
   "source": [
    "## Creating Gaussian model and fitter objects"
   ]
  },
  {
   "cell_type": "code",
   "execution_count": 3,
   "metadata": {},
   "outputs": [],
   "source": [
    "#only does something if filtering predictions\n",
    "filter_type='dc'\n",
    "filter_params={\"first_modes_to_remove\":3,\n",
    "                         \"last_modes_to_remove_percent\":0,\n",
    "                         \"window_length\":50,\n",
    "                         \"polyorder\":3,\n",
    "                         \"highpass\":True,\n",
    "                         \"add_mean\":True}\n",
    "\n",
    "filter_predictions=False\n",
    "\n",
    "#setting a default hrf (this will not be used if we then decide to fit the hrf)\n",
    "hrf=[1,2,0]\n",
    "#SPM or TDM (kendrick kay) as hrf basis\n",
    "hrf_basis='SPM'\n",
    "#HRF amplitude set to 1 or not\n",
    "normalize_hrf=True\n",
    "\n",
    "normalize_RFs=False\n",
    "\n",
    "#some kind of fake data\n",
    "data = 3*np.random.rand(50,100)+0.01*np.sum(design_matrix, axis=(0,1))-1.5\n",
    "data[:10,30:40] -= 2.5\n",
    "data[:10,50:60] -= 2\n",
    "data = np.roll(data,12)\n",
    "\n",
    "\n",
    "gg = Iso2DGaussianModel(stimulus=prf_stim,\n",
    "                          hrf=hrf,\n",
    "                          filter_predictions=filter_predictions,\n",
    "                          filter_type=filter_type,\n",
    "                          filter_params=filter_params,\n",
    "                          normalize_RFs=normalize_RFs,\n",
    "                          hrf_basis=hrf_basis,\n",
    "                          normalize_hrf=normalize_hrf)\n",
    "\n",
    "gf = Iso2DGaussianFitter(data=data, model=gg, n_jobs=8)"
   ]
  },
  {
   "cell_type": "markdown",
   "metadata": {},
   "source": [
    "## Gaussian grid fit"
   ]
  },
  {
   "cell_type": "code",
   "execution_count": 4,
   "metadata": {},
   "outputs": [],
   "source": [
    "#ecc-polar-size grids\n",
    "ecc_grid=np.linspace(0,10,10)\n",
    "polar_grid=np.linspace(-np.pi,np.pi,10)\n",
    "size_grid=np.linspace(1,10,10)\n",
    "\n",
    "verbose=False\n",
    "n_batches=8\n",
    "\n",
    "#IMPORTANT: fixing bold baseline to 0 (recommended), and only allowing positive prfs\n",
    "fixed_grid_baseline=0\n",
    "gauss_grid_bounds=[(0,1000)] #bound on prf amplitudes (only positive)\n",
    "\n",
    "#hrf parameter grids. keep them like this.\n",
    "hrf_1_grid=np.linspace(0,10,10)\n",
    "#hrf_2 should always be fixed to 0, unless you have a very good reason to vary it and you know what you are doing\n",
    "hrf_2_grid=np.linspace(0,0,1)\n",
    "\n",
    "gf.grid_fit(ecc_grid=ecc_grid,\n",
    "                polar_grid=polar_grid,\n",
    "                size_grid=size_grid,\n",
    "                verbose=verbose,\n",
    "                n_batches=n_batches,\n",
    "                fixed_grid_baseline=fixed_grid_baseline,\n",
    "                grid_bounds=gauss_grid_bounds,\n",
    "                hrf_1_grid=hrf_1_grid,\n",
    "                hrf_2_grid=hrf_2_grid)"
   ]
  },
  {
   "cell_type": "markdown",
   "metadata": {},
   "source": [
    "## Gaussian Iterative Fit"
   ]
  },
  {
   "cell_type": "code",
   "execution_count": 15,
   "metadata": {},
   "outputs": [
    {
     "name": "stderr",
     "output_type": "stream",
     "text": [
      "[Parallel(n_jobs=8)]: Using backend LokyBackend with 8 concurrent workers.\n",
      "/Users/marcoaqil/anaconda3/envs/prfpy_2021/lib/python3.9/site-packages/nilearn/glm/__init__.py:55: FutureWarning: The nilearn.glm module is experimental. It may change in any future release of Nilearn.\n",
      "  warn('The nilearn.glm module is experimental. '\n",
      "/Users/marcoaqil/anaconda3/envs/prfpy_2021/lib/python3.9/site-packages/nilearn/glm/__init__.py:55: FutureWarning: The nilearn.glm module is experimental. It may change in any future release of Nilearn.\n",
      "  warn('The nilearn.glm module is experimental. '\n",
      "/Users/marcoaqil/anaconda3/envs/prfpy_2021/lib/python3.9/site-packages/nilearn/glm/__init__.py:55: FutureWarning: The nilearn.glm module is experimental. It may change in any future release of Nilearn.\n",
      "  warn('The nilearn.glm module is experimental. '\n",
      "/Users/marcoaqil/anaconda3/envs/prfpy_2021/lib/python3.9/site-packages/nilearn/glm/__init__.py:55: FutureWarning: The nilearn.glm module is experimental. It may change in any future release of Nilearn.\n",
      "  warn('The nilearn.glm module is experimental. '\n",
      "/Users/marcoaqil/anaconda3/envs/prfpy_2021/lib/python3.9/site-packages/nilearn/glm/__init__.py:55: FutureWarning: The nilearn.glm module is experimental. It may change in any future release of Nilearn.\n",
      "  warn('The nilearn.glm module is experimental. '\n",
      "/Users/marcoaqil/anaconda3/envs/prfpy_2021/lib/python3.9/site-packages/nilearn/glm/__init__.py:55: FutureWarning: The nilearn.glm module is experimental. It may change in any future release of Nilearn.\n",
      "  warn('The nilearn.glm module is experimental. '\n",
      "/Users/marcoaqil/anaconda3/envs/prfpy_2021/lib/python3.9/site-packages/nilearn/glm/__init__.py:55: FutureWarning: The nilearn.glm module is experimental. It may change in any future release of Nilearn.\n",
      "  warn('The nilearn.glm module is experimental. '\n",
      "/Users/marcoaqil/anaconda3/envs/prfpy_2021/lib/python3.9/site-packages/nilearn/glm/__init__.py:55: FutureWarning: The nilearn.glm module is experimental. It may change in any future release of Nilearn.\n",
      "  warn('The nilearn.glm module is experimental. '\n",
      "/Users/marcoaqil/anaconda3/envs/prfpy_2021/lib/python3.9/site-packages/scipy/optimize/_hessian_update_strategy.py:182: UserWarning: delta_grad == 0.0. Check if the approximated function is linear. If the function is linear better results can be obtained by defining the Hessian as zero instead of using quasi-Newton approximations.\n",
      "  warn('delta_grad == 0.0. Check if the approximated '\n",
      "/Users/marcoaqil/anaconda3/envs/prfpy_2021/lib/python3.9/site-packages/scipy/optimize/_hessian_update_strategy.py:182: UserWarning: delta_grad == 0.0. Check if the approximated function is linear. If the function is linear better results can be obtained by defining the Hessian as zero instead of using quasi-Newton approximations.\n",
      "  warn('delta_grad == 0.0. Check if the approximated '\n",
      "/Users/marcoaqil/anaconda3/envs/prfpy_2021/lib/python3.9/site-packages/scipy/optimize/_hessian_update_strategy.py:182: UserWarning: delta_grad == 0.0. Check if the approximated function is linear. If the function is linear better results can be obtained by defining the Hessian as zero instead of using quasi-Newton approximations.\n",
      "  warn('delta_grad == 0.0. Check if the approximated '\n",
      "/Users/marcoaqil/anaconda3/envs/prfpy_2021/lib/python3.9/site-packages/scipy/optimize/_hessian_update_strategy.py:182: UserWarning: delta_grad == 0.0. Check if the approximated function is linear. If the function is linear better results can be obtained by defining the Hessian as zero instead of using quasi-Newton approximations.\n",
      "  warn('delta_grad == 0.0. Check if the approximated '\n",
      "/Users/marcoaqil/anaconda3/envs/prfpy_2021/lib/python3.9/site-packages/scipy/optimize/_hessian_update_strategy.py:182: UserWarning: delta_grad == 0.0. Check if the approximated function is linear. If the function is linear better results can be obtained by defining the Hessian as zero instead of using quasi-Newton approximations.\n",
      "  warn('delta_grad == 0.0. Check if the approximated '\n",
      "/Users/marcoaqil/anaconda3/envs/prfpy_2021/lib/python3.9/site-packages/scipy/optimize/_hessian_update_strategy.py:182: UserWarning: delta_grad == 0.0. Check if the approximated function is linear. If the function is linear better results can be obtained by defining the Hessian as zero instead of using quasi-Newton approximations.\n",
      "  warn('delta_grad == 0.0. Check if the approximated '\n",
      "/Users/marcoaqil/anaconda3/envs/prfpy_2021/lib/python3.9/site-packages/scipy/optimize/_hessian_update_strategy.py:182: UserWarning: delta_grad == 0.0. Check if the approximated function is linear. If the function is linear better results can be obtained by defining the Hessian as zero instead of using quasi-Newton approximations.\n",
      "  warn('delta_grad == 0.0. Check if the approximated '\n",
      "/Users/marcoaqil/anaconda3/envs/prfpy_2021/lib/python3.9/site-packages/scipy/optimize/_hessian_update_strategy.py:182: UserWarning: delta_grad == 0.0. Check if the approximated function is linear. If the function is linear better results can be obtained by defining the Hessian as zero instead of using quasi-Newton approximations.\n",
      "  warn('delta_grad == 0.0. Check if the approximated '\n",
      "[Parallel(n_jobs=8)]: Done  48 out of  48 | elapsed:   11.4s finished\n"
     ]
    }
   ],
   "source": [
    "rsq_threshold=0.05\n",
    "verbose=True\n",
    "gauss_bounds = [(-1.5*10, 1.5*10),  # x\n",
    "                (-1.5*10, 1.5*10),  # y\n",
    "                (0.1, 1.5*5),  # prf size\n",
    "                (0, 1000),  # prf amplitude\n",
    "                (0, 0)]  # bold baseline\n",
    "gauss_bounds += [(0,10),(0,0)] #hrf bounds. if want it fixed to some value, specify e.g. (4,4) (0,0)\n",
    "constraints=None\n",
    "tol=1e-4\n",
    "xtol=1e-4\n",
    "\n",
    "#iterative fit acts as a wrapper of optimize.minimize and passes all the arguments\n",
    "gf.iterative_fit(rsq_threshold=rsq_threshold, verbose=verbose,\n",
    "                         bounds=gauss_bounds,\n",
    "                         constraints=constraints,\n",
    "                             tol=tol,\n",
    "                            method='trust-constr',\n",
    "                            options={'xtol':xtol})"
   ]
  },
  {
   "cell_type": "markdown",
   "metadata": {},
   "source": [
    "# DN model fit"
   ]
  },
  {
   "cell_type": "markdown",
   "metadata": {},
   "source": [
    "## Create model and fitter objects"
   ]
  },
  {
   "cell_type": "code",
   "execution_count": null,
   "metadata": {},
   "outputs": [],
   "source": [
    "stimulus=prf_stim\n",
    "filter_type='dc'\n",
    "filter_params={\"first_modes_to_remove\":3,\n",
    "                         \"last_modes_to_remove_percent\":0,\n",
    "                         \"window_length\":50,\n",
    "                         \"polyorder\":3,\n",
    "                         \"highpass\":True,\n",
    "                         \"add_mean\":True}\n",
    "\n",
    "filter_predictions=False                                     \n",
    "normalize_RFs=False\n",
    "\n",
    "use_previous_gaussian_fitter_hrf=False #if true, will use hrf result from gauss fit at the grid stage instead of doing a grid fit for it\n",
    "\n",
    "gg_norm = Norm_Iso2DGaussianModel(stimulus=prf_stim,\n",
    "                                    hrf=hrf,\n",
    "                                    filter_predictions=filter_predictions,\n",
    "                                    filter_type=filter_type,\n",
    "                                    filter_params=filter_params,                                       \n",
    "                                    normalize_RFs=normalize_RFs,\n",
    "                                    hrf_basis=hrf_basis,\n",
    "                                    normalize_hrf=normalize_hrf)\n",
    "\n",
    "gf_norm = Norm_Iso2DGaussianFitter(data=data,\n",
    "                                   model=gg_norm,\n",
    "                                   n_jobs=8,\n",
    "                                   previous_gaussian_fitter=gf,\n",
    "                                  use_previous_gaussian_fitter_hrf=use_previous_gaussian_fitter_hrf) "
   ]
  },
  {
   "cell_type": "markdown",
   "metadata": {},
   "source": [
    "## DN model grid fit"
   ]
  },
  {
   "cell_type": "code",
   "execution_count": null,
   "metadata": {},
   "outputs": [],
   "source": [
    "norm_grid_bounds = [(0,1000),(0,1000)] #only prf amplitudes between 0 and 1000, only neural baseline values between 0 and 1000, for consistency with iterative fitting bounds\n",
    "\n",
    "surround_amplitude_grid=np.array([0.05,0.2,0.4,0.7,1,3], dtype='float32')\n",
    "surround_size_grid=np.array([3,5,8,12,18], dtype='float32')\n",
    "neural_baseline_grid=np.array([0,1,10,100], dtype='float32')\n",
    "surround_baseline_grid=np.array([0.1,1.0,10.0,100.0], dtype='float32')\n",
    "\n",
    "gf_norm.grid_fit(surround_amplitude_grid=surround_amplitude_grid,\n",
    "             surround_size_grid=surround_size_grid,\n",
    "             neural_baseline_grid=neural_baseline_grid,\n",
    "             surround_baseline_grid=surround_baseline_grid,\n",
    "             verbose=verbose,\n",
    "             n_batches=8,\n",
    "             rsq_threshold=rsq_threshold,\n",
    "             fixed_grid_baseline=fixed_grid_baseline,\n",
    "             grid_bounds=norm_grid_bounds,\n",
    "            hrf_1_grid=hrf_1_grid,\n",
    "            hrf_2_grid=hrf_1_grid)#,\n",
    "\n",
    "#if desired, can perform full grid using the parameters below (not recommended)\n",
    "#                ecc_grid=ecc_grid[:num],\n",
    "#                polar_grid=polar_grid[:num],\n",
    "#                size_grid=size_grid[:num])"
   ]
  },
  {
   "cell_type": "markdown",
   "metadata": {},
   "source": [
    "## DN Iterative Fit"
   ]
  },
  {
   "cell_type": "code",
   "execution_count": null,
   "metadata": {},
   "outputs": [],
   "source": [
    "norm_bounds =  [(-1.5*10, 1.5*10),  # x\n",
    "                (-1.5*10, 1.5*10),  # y\n",
    "                (0.1, 1.5*5),  # prf size\n",
    "                (0, 1000),  # prf amplitude\n",
    "                (0, 0),  # bold baseline (fixed to zero)\n",
    "                (0, 1000),  # surround amplitude\n",
    "                (0.1, 3*5),  # surround size\n",
    "                (0, 1000),  # neural baseline\n",
    "                (1e-6, 1000)]  # surround baseline\n",
    "norm_bounds += [(0,10),(0,0)] #hrf bounds\n",
    "constraints_norm = None\n",
    "\n",
    "gf_norm.iterative_fit(rsq_threshold=rsq_threshold, verbose=verbose,\n",
    "                               bounds=norm_bounds,\n",
    "                               constraints=constraints_norm,\n",
    "                               xtol=xtol,\n",
    "                               ftol=ftol)"
   ]
  },
  {
   "cell_type": "markdown",
   "metadata": {},
   "source": [
    "# Crossvalidate"
   ]
  },
  {
   "cell_type": "code",
   "execution_count": null,
   "metadata": {},
   "outputs": [],
   "source": [
    "test_data = 3*np.random.rand(50,100)+0.01*np.sum(design_matrix, axis=(0,1))-1.5\n",
    "np.roll(test_data,6)\n",
    "\n",
    "test_stimulus = prf_stim\n",
    "\n",
    "single_hrf = False\n",
    "\n",
    "gf.crossvalidate_fit(test_data=test_data,\n",
    "                     test_stimulus=test_stimulus,\n",
    "                     single_hrf=single_hrf)\n",
    "\n",
    "gf_norm.crossvalidate_fit(test_data,\n",
    "                        test_stimulus=test_stimulus,\n",
    "                        single_hrf=single_hrf)"
   ]
  },
  {
   "cell_type": "code",
   "execution_count": null,
   "metadata": {},
   "outputs": [],
   "source": []
  }
 ],
 "metadata": {
  "kernelspec": {
   "display_name": "Python 3 (ipykernel)",
   "language": "python",
   "name": "python3"
  },
  "language_info": {
   "codemirror_mode": {
    "name": "ipython",
    "version": 3
   },
   "file_extension": ".py",
   "mimetype": "text/x-python",
   "name": "python",
   "nbconvert_exporter": "python",
   "pygments_lexer": "ipython3",
   "version": "3.9.0"
  },
  "toc": {
   "base_numbering": 1,
   "nav_menu": {},
   "number_sections": true,
   "sideBar": false,
   "skip_h1_title": false,
   "title_cell": "Table of Contents",
   "title_sidebar": "Contents",
   "toc_cell": false,
   "toc_position": {},
   "toc_section_display": true,
   "toc_window_display": false
  },
  "varInspector": {
   "cols": {
    "lenName": 16,
    "lenType": 16,
    "lenVar": 40
   },
   "kernels_config": {
    "python": {
     "delete_cmd_postfix": "",
     "delete_cmd_prefix": "del ",
     "library": "var_list.py",
     "varRefreshCmd": "print(var_dic_list())"
    },
    "r": {
     "delete_cmd_postfix": ") ",
     "delete_cmd_prefix": "rm(",
     "library": "var_list.r",
     "varRefreshCmd": "cat(var_dic_list()) "
    }
   },
   "types_to_exclude": [
    "module",
    "function",
    "builtin_function_or_method",
    "instance",
    "_Feature"
   ],
   "window_display": false
  }
 },
 "nbformat": 4,
 "nbformat_minor": 2
}
