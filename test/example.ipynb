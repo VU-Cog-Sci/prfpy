{
 "cells": [
  {
   "cell_type": "code",
   "execution_count": null,
   "metadata": {},
   "outputs": [],
   "source": [
    "%%capture\n",
    "%load_ext autoreload\n",
    "%autoreload 2\n",
    "%matplotlib notebook\n",
    "import numpy as np\n",
    "import matplotlib.pyplot as pl\n",
    "from prfpy.stimulus import PRFStimulus2D\n",
    "from prfpy.model import Iso2DGaussianModel, Norm_Iso2DGaussianModel, DoG_Iso2DGaussianModel, CSS_Iso2DGaussianModel\n",
    "from prfpy.fit import Iso2DGaussianFitter, Norm_Iso2DGaussianFitter, DoG_Iso2DGaussianFitter, CSS_Iso2DGaussianFitter"
   ]
  },
  {
   "cell_type": "markdown",
   "metadata": {},
   "source": [
    "This notebook shows a simple example of prfpy use"
   ]
  },
  {
   "cell_type": "markdown",
   "metadata": {},
   "source": [
    "# Creating stimulus object"
   ]
  },
  {
   "cell_type": "code",
   "execution_count": null,
   "metadata": {},
   "outputs": [],
   "source": [
    "screen_size_cm=40\n",
    "screen_distance_cm=200\n",
    "design_matrix=np.zeros((50,50,100))\n",
    "design_matrix[:,20:30,40:50] = 1\n",
    "TR=1\n",
    "task_lengths=[100]\n",
    "task_names=['test']\n",
    "late_iso_dict={'test':np.arange(40)}\n",
    "normalize_integral_dx=False\n",
    "\n",
    "prf_stim = PRFStimulus2D(screen_size_cm=screen_size_cm,\n",
    "                             screen_distance_cm=screen_distance_cm,\n",
    "                             design_matrix=design_matrix,\n",
    "                             TR=TR,\n",
    "                             task_lengths=task_lengths,\n",
    "                             task_names=task_names,\n",
    "                             late_iso_dict=late_iso_dict,\n",
    "                             normalize_integral_dx=normalize_integral_dx)"
   ]
  },
  {
   "cell_type": "markdown",
   "metadata": {},
   "source": [
    "# Gaussian model fit"
   ]
  },
  {
   "cell_type": "markdown",
   "metadata": {},
   "source": [
    "## Creating Gaussian model and fitter objects"
   ]
  },
  {
   "cell_type": "code",
   "execution_count": null,
   "metadata": {},
   "outputs": [],
   "source": [
    "#only needed if filtering predictions\n",
    "filter_type='dc'\n",
    "filter_params={\"first_modes_to_remove\":3,\n",
    "                         \"last_modes_to_remove_percent\":0,\n",
    "                         \"window_length\":50,\n",
    "                         \"polyorder\":3,\n",
    "                         \"highpass\":True,\n",
    "                         \"add_mean\":True}\n",
    "\n",
    "filter_predictions=False\n",
    "\n",
    "hrf=[1,4,0]\n",
    "\n",
    "data = 3*np.random.rand(50,100)+0.01*np.sum(design_matrix, axis=(0,1))-1.5\n",
    "#some kind of surround\n",
    "data[:10,30:40] -= 2.5\n",
    "data[:10,50:60] -= 2\n",
    "data = np.roll(data,12)\n",
    "\n",
    "normalize_RFs=False\n",
    "\n",
    "\n",
    "gg = Iso2DGaussianModel(stimulus=prf_stim,\n",
    "                          hrf=hrf,\n",
    "                          filter_predictions=filter_predictions,\n",
    "                          filter_type=filter_type,\n",
    "                          filter_params=filter_params,\n",
    "                          normalize_RFs=normalize_RFs)\n",
    "\n",
    "gf = Iso2DGaussianFitter(data=data, model=gg, n_jobs=8)"
   ]
  },
  {
   "cell_type": "markdown",
   "metadata": {},
   "source": [
    "## Gaussian grid fit"
   ]
  },
  {
   "cell_type": "code",
   "execution_count": null,
   "metadata": {},
   "outputs": [],
   "source": [
    "ecc_grid=np.linspace(0,10,10)\n",
    "polar_grid=np.linspace(-np.pi,np.pi,10)\n",
    "size_grid=np.linspace(1,10,10)\n",
    "verbose=False\n",
    "n_batches=8\n",
    "fixed_grid_baseline=0\n",
    "gauss_grid_bounds=[(0,1000)] #bound on prf amplitudes (only positive)\n",
    "\n",
    "hrf_1_grid=np.linspace(0,10,10)\n",
    "hrf_2_grid=np.linspace(0,0,1)\n",
    "\n",
    "gf.grid_fit(ecc_grid=ecc_grid,\n",
    "                polar_grid=polar_grid,\n",
    "                size_grid=size_grid,\n",
    "                verbose=verbose,\n",
    "                n_batches=n_batches,\n",
    "                fixed_grid_baseline=fixed_grid_baseline,\n",
    "                grid_bounds=gauss_grid_bounds,\n",
    "           hrf_1_grid=hrf_1_grid,\n",
    "           hrf_2_grid=hrf_2_grid)"
   ]
  },
  {
   "cell_type": "code",
   "execution_count": null,
   "metadata": {},
   "outputs": [],
   "source": [
    "gf.gridsearch_params"
   ]
  },
  {
   "cell_type": "markdown",
   "metadata": {},
   "source": [
    "## Gaussian Iterative Fit"
   ]
  },
  {
   "cell_type": "code",
   "execution_count": null,
   "metadata": {},
   "outputs": [],
   "source": [
    "rsq_threshold=0.01\n",
    "verbose=True\n",
    "gauss_bounds = [(-1.5*10, 1.5*10),  # x\n",
    "                (-1.5*10, 1.5*10),  # y\n",
    "                (0.1, 1.5*5),  # prf size\n",
    "                (0, 1000),  # prf amplitude\n",
    "                (0, 0)]  # bold baseline\n",
    "gauss_bounds += [(0,10),(0,0)] #hrf bounds. if want it fixed to some value, specify e.g. (4,4) (0,0)\n",
    "constraints=None\n",
    "xtol=1e-4\n",
    "ftol=1e-4\n",
    "\n",
    "gf.iterative_fit(rsq_threshold=rsq_threshold, verbose=verbose,\n",
    "                         bounds=gauss_bounds,\n",
    "                         constraints=constraints,\n",
    "                             xtol=xtol,\n",
    "                             ftol=xtol)"
   ]
  },
  {
   "cell_type": "code",
   "execution_count": null,
   "metadata": {},
   "outputs": [],
   "source": [
    "gf.iterative_search_params"
   ]
  },
  {
   "cell_type": "markdown",
   "metadata": {},
   "source": [
    "# DN model fit"
   ]
  },
  {
   "cell_type": "markdown",
   "metadata": {},
   "source": [
    "## Create model and fitter objects"
   ]
  },
  {
   "cell_type": "code",
   "execution_count": null,
   "metadata": {},
   "outputs": [],
   "source": [
    "stimulus=prf_stim\n",
    "hrf=[1,5,0]\n",
    "filter_type='dc'\n",
    "filter_params={\"first_modes_to_remove\":3,\n",
    "                         \"last_modes_to_remove_percent\":0,\n",
    "                         \"window_length\":50,\n",
    "                         \"polyorder\":3,\n",
    "                         \"highpass\":True,\n",
    "                         \"add_mean\":True}\n",
    "\n",
    "filter_predictions=False                                     \n",
    "normalize_RFs=False\n",
    "\n",
    "use_previous_gaussian_fitter_hrf=False #if true, will use hrf result from gauss fit at the grid stage instead of doing a grid fit for it\n",
    "\n",
    "gg_norm = Norm_Iso2DGaussianModel(stimulus=prf_stim,\n",
    "                                    hrf=hrf,\n",
    "                                    filter_predictions=filter_predictions,\n",
    "                                    filter_type=filter_type,\n",
    "                                    filter_params=filter_params,                                       \n",
    "                                    normalize_RFs=normalize_RFs)\n",
    "\n",
    "gf_norm = Norm_Iso2DGaussianFitter(data=data,\n",
    "                                   model=gg_norm,\n",
    "                                   n_jobs=8,\n",
    "                                   previous_gaussian_fitter=gf,\n",
    "                                  use_previous_gaussian_fitter_hrf=use_previous_gaussian_fitter_hrf) "
   ]
  },
  {
   "cell_type": "markdown",
   "metadata": {},
   "source": [
    "## DN model grid fit"
   ]
  },
  {
   "cell_type": "code",
   "execution_count": null,
   "metadata": {},
   "outputs": [],
   "source": [
    "norm_grid_bounds = [(0,1000),(0,1000)] #only prf amplitudes between 0 and 1000, only neural baseline values between 0 and 1000\n",
    "\n",
    "gf_norm.grid_fit(surround_amplitude_grid=np.linspace(0,10,5),\n",
    "             surround_size_grid=np.linspace(1,10,5),\n",
    "             neural_baseline_grid=np.linspace(0,10,5),\n",
    "             surround_baseline_grid=np.linspace(1,10,5),\n",
    "             verbose=verbose,\n",
    "             n_batches=8,\n",
    "             rsq_threshold=rsq_threshold,\n",
    "             fixed_grid_baseline=fixed_grid_baseline,\n",
    "             grid_bounds=norm_grid_bounds,\n",
    "             hrf_1_grid=np.linspace(0,10,5),\n",
    "             hrf_2_grid=np.linspace(0,0,1))"
   ]
  },
  {
   "cell_type": "markdown",
   "metadata": {},
   "source": [
    "## DN Iterative Fit"
   ]
  },
  {
   "cell_type": "code",
   "execution_count": null,
   "metadata": {},
   "outputs": [],
   "source": [
    "norm_bounds =  [(-1.5*10, 1.5*10),  # x\n",
    "                (-1.5*10, 1.5*10),  # y\n",
    "                (0.1, 1.5*5),  # prf size\n",
    "                (0, 1000),  # prf amplitude\n",
    "                (0, 0),  # bold baseline\n",
    "                (0, 1000),  # surround amplitude\n",
    "                (0.1, 3*5),  # surround size\n",
    "                (0, 1000),  # neural baseline\n",
    "                (1e-6, 1000)]  # surround baseline\n",
    "norm_bounds += [(0,10),(0,0)]\n",
    "constraints_norm = None\n",
    "\n",
    "gf_norm.iterative_fit(rsq_threshold=rsq_threshold, verbose=verbose,\n",
    "                               bounds=norm_bounds,\n",
    "                               constraints=constraints_norm,\n",
    "                               xtol=xtol,\n",
    "                               ftol=ftol)"
   ]
  },
  {
   "cell_type": "markdown",
   "metadata": {},
   "source": [
    "# Crossvalidate"
   ]
  },
  {
   "cell_type": "code",
   "execution_count": null,
   "metadata": {},
   "outputs": [],
   "source": [
    "test_data = 3*np.random.rand(50,100)+0.01*np.sum(design_matrix, axis=(0,1))-1.5\n",
    "np.roll(test_data,6)\n",
    "\n",
    "test_stimulus = prf_stim\n",
    "\n",
    "single_hrf = False\n",
    "\n",
    "gf.crossvalidate_fit(test_data=test_data,\n",
    "                     test_stimulus=test_stimulus,\n",
    "                     single_hrf=single_hrf)\n",
    "\n",
    "gf_norm.crossvalidate_fit(test_data,\n",
    "                        test_stimulus=test_stimulus,\n",
    "                        single_hrf=single_hrf)"
   ]
  }
 ],
 "metadata": {
  "kernelspec": {
   "display_name": "Python 3 (ipykernel)",
   "language": "python",
   "name": "python3"
  },
  "language_info": {
   "codemirror_mode": {
    "name": "ipython",
    "version": 3
   },
   "file_extension": ".py",
   "mimetype": "text/x-python",
   "name": "python",
   "nbconvert_exporter": "python",
   "pygments_lexer": "ipython3",
   "version": "3.9.0"
  },
  "toc": {
   "base_numbering": 1,
   "nav_menu": {},
   "number_sections": true,
   "sideBar": false,
   "skip_h1_title": false,
   "title_cell": "Table of Contents",
   "title_sidebar": "Contents",
   "toc_cell": false,
   "toc_position": {},
   "toc_section_display": true,
   "toc_window_display": false
  },
  "varInspector": {
   "cols": {
    "lenName": 16,
    "lenType": 16,
    "lenVar": 40
   },
   "kernels_config": {
    "python": {
     "delete_cmd_postfix": "",
     "delete_cmd_prefix": "del ",
     "library": "var_list.py",
     "varRefreshCmd": "print(var_dic_list())"
    },
    "r": {
     "delete_cmd_postfix": ") ",
     "delete_cmd_prefix": "rm(",
     "library": "var_list.r",
     "varRefreshCmd": "cat(var_dic_list()) "
    }
   },
   "types_to_exclude": [
    "module",
    "function",
    "builtin_function_or_method",
    "instance",
    "_Feature"
   ],
   "window_display": false
  }
 },
 "nbformat": 4,
 "nbformat_minor": 2
}
