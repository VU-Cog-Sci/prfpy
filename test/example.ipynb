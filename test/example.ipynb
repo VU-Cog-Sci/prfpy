{
 "cells": [
  {
   "cell_type": "code",
   "execution_count": 4,
   "metadata": {},
   "outputs": [],
   "source": [
    "%%capture\n",
    "import numpy as np\n",
    "from prfpy.stimulus import PRFStimulus2D\n",
    "from prfpy.model import Iso2DGaussianModel, Norm_Iso2DGaussianModel\n",
    "from prfpy.fit import Iso2DGaussianFitter, Norm_Iso2DGaussianFitter"
   ]
  },
  {
   "cell_type": "markdown",
   "metadata": {},
   "source": [
    "This notebook shows a simple example of prfpy use, fitting a Gaussian and DN models and crossvalidating"
   ]
  },
  {
   "cell_type": "markdown",
   "metadata": {},
   "source": [
    "# Creating stimulus object"
   ]
  },
  {
   "cell_type": "code",
   "execution_count": 9,
   "metadata": {},
   "outputs": [],
   "source": [
    "prf_stim = PRFStimulus2D(screen_size_cm=screen_size_cm,\n",
    "                             screen_distance_cm=screen_distance_cm,\n",
    "                             design_matrix=dm_full,\n",
    "                             TR=TR,\n",
    "                             task_lengths=task_lengths,\n",
    "                             task_names=task_names,\n",
    "                             late_iso_dict=late_iso_dict,\n",
    "                             normalize_integral_dx=normalize_integral_dx)"
   ]
  },
  {
   "cell_type": "markdown",
   "metadata": {},
   "source": [
    "# Gaussian model fit"
   ]
  },
  {
   "cell_type": "markdown",
   "metadata": {},
   "source": [
    "## Creating Gaussian model and fitter objects"
   ]
  },
  {
   "cell_type": "code",
   "execution_count": null,
   "metadata": {},
   "outputs": [],
   "source": [
    "gg = Iso2DGaussianModel(stimulus=prf_stim,\n",
    "                          hrf=hrf,\n",
    "                          filter_predictions=filter_predictions,\n",
    "                          filter_type=filter_type,\n",
    "                          filter_params=filter_params,\n",
    "                          normalize_RFs=normalize_RFs)\n",
    "\n",
    "gf = Iso2DGaussianFitter(data=data, model=gg, n_jobs=n_jobs, fit_hrf=fit_hrf)"
   ]
  },
  {
   "cell_type": "markdown",
   "metadata": {},
   "source": [
    "## Gaussian grid fit"
   ]
  },
  {
   "cell_type": "code",
   "execution_count": null,
   "metadata": {},
   "outputs": [],
   "source": [
    "gf.grid_fit(ecc_grid=ecc_grid,\n",
    "                polar_grid=polar_grid,\n",
    "                size_grid=size_grid,\n",
    "                verbose=verbose,\n",
    "                n_batches=n_batches,\n",
    "                fixed_grid_baseline=fixed_grid_baseline,\n",
    "                grid_bounds=gauss_grid_bounds)"
   ]
  },
  {
   "cell_type": "markdown",
   "metadata": {},
   "source": [
    "## Gaussian Iterative Fit"
   ]
  },
  {
   "cell_type": "code",
   "execution_count": null,
   "metadata": {},
   "outputs": [],
   "source": [
    "gf.iterative_fit(rsq_threshold=rsq_threshold, verbose=verbose,\n",
    "                         bounds=gauss_bounds,\n",
    "                         constraints=constraints,\n",
    "                             xtol=xtol,\n",
    "                             ftol=xtol)"
   ]
  },
  {
   "cell_type": "markdown",
   "metadata": {},
   "source": [
    "## Crossvalidate"
   ]
  },
  {
   "cell_type": "code",
   "execution_count": null,
   "metadata": {},
   "outputs": [],
   "source": [
    "gf.crossvalidate_fit(test_data=test_data,\n",
    "                     test_stimulus=test_stimulus,\n",
    "                     single_hrf=single_hrf)"
   ]
  },
  {
   "cell_type": "markdown",
   "metadata": {},
   "source": [
    "# DN model fit"
   ]
  },
  {
   "cell_type": "markdown",
   "metadata": {},
   "source": [
    "## Create model and fitter objects"
   ]
  },
  {
   "cell_type": "code",
   "execution_count": null,
   "metadata": {},
   "outputs": [],
   "source": [
    "gg_norm = Norm_Iso2DGaussianModel(stimulus=prf_stim,\n",
    "                                    hrf=hrf,\n",
    "                                    filter_predictions=filter_predictions,\n",
    "                                    filter_type=filter_type,\n",
    "                                    filter_params=filter_params,                                       \n",
    "                                    normalize_RFs=normalize_RFs)\n",
    "\n",
    "gf_norm = Norm_Iso2DGaussianFitter(data=data,\n",
    "                                   model=gg_norm,\n",
    "                                   n_jobs=n_jobs,\n",
    "                                   fit_hrf=fit_hrf,\n",
    "                                   previous_gaussian_fitter=gf)"
   ]
  },
  {
   "cell_type": "markdown",
   "metadata": {},
   "source": [
    "## DN model grid fit"
   ]
  },
  {
   "cell_type": "code",
   "execution_count": null,
   "metadata": {},
   "outputs": [],
   "source": [
    "gf_norm.grid_fit(surround_amplitude_grid,\n",
    "             surround_size_grid,\n",
    "             neural_baseline_grid,\n",
    "             surround_baseline_grid,\n",
    "             verbose=verbose,\n",
    "             n_batches=n_batches,\n",
    "             rsq_threshold=rsq_threshold,\n",
    "             fixed_grid_baseline=fixed_grid_baseline,\n",
    "             grid_bounds=norm_grid_bounds)"
   ]
  },
  {
   "cell_type": "markdown",
   "metadata": {},
   "source": [
    "## DN Iterative Fit"
   ]
  },
  {
   "cell_type": "code",
   "execution_count": null,
   "metadata": {},
   "outputs": [],
   "source": [
    "gf_norm.iterative_fit(rsq_threshold=rsq_threshold, verbose=verbose,\n",
    "                               bounds=norm_bounds,\n",
    "                               constraints=constraints_norm,\n",
    "                               xtol=xtol,\n",
    "                               ftol=ftol)"
   ]
  },
  {
   "cell_type": "markdown",
   "metadata": {},
   "source": [
    "## Crossvalidate"
   ]
  },
  {
   "cell_type": "code",
   "execution_count": null,
   "metadata": {},
   "outputs": [],
   "source": [
    "gf_norm.crossvalidate_fit(test_data,\n",
    "                        test_stimulus=test_stimulus,\n",
    "                        single_hrf=single_hrf)"
   ]
  }
 ],
 "metadata": {
  "kernelspec": {
   "display_name": "Python 3 (ipykernel)",
   "language": "python",
   "name": "python3"
  },
  "language_info": {
   "codemirror_mode": {
    "name": "ipython",
    "version": 3
   },
   "file_extension": ".py",
   "mimetype": "text/x-python",
   "name": "python",
   "nbconvert_exporter": "python",
   "pygments_lexer": "ipython3",
   "version": "3.9.0"
  },
  "toc": {
   "base_numbering": 1,
   "nav_menu": {},
   "number_sections": true,
   "sideBar": false,
   "skip_h1_title": false,
   "title_cell": "Table of Contents",
   "title_sidebar": "Contents",
   "toc_cell": false,
   "toc_position": {},
   "toc_section_display": true,
   "toc_window_display": false
  },
  "varInspector": {
   "cols": {
    "lenName": 16,
    "lenType": 16,
    "lenVar": 40
   },
   "kernels_config": {
    "python": {
     "delete_cmd_postfix": "",
     "delete_cmd_prefix": "del ",
     "library": "var_list.py",
     "varRefreshCmd": "print(var_dic_list())"
    },
    "r": {
     "delete_cmd_postfix": ") ",
     "delete_cmd_prefix": "rm(",
     "library": "var_list.r",
     "varRefreshCmd": "cat(var_dic_list()) "
    }
   },
   "types_to_exclude": [
    "module",
    "function",
    "builtin_function_or_method",
    "instance",
    "_Feature"
   ],
   "window_display": false
  }
 },
 "nbformat": 4,
 "nbformat_minor": 2
}
